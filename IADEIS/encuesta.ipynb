{
 "cells": [
  {
   "cell_type": "code",
   "execution_count": 1,
   "metadata": {},
   "outputs": [],
   "source": [
    "import pandas as pd\n",
    "import numpy as np\n",
    "import matplotlib.pyplot as plt"
   ]
  },
  {
   "cell_type": "code",
   "execution_count": 4,
   "metadata": {},
   "outputs": [
    {
     "data": {
      "text/html": [
       "<div>\n",
       "<style scoped>\n",
       "    .dataframe tbody tr th:only-of-type {\n",
       "        vertical-align: middle;\n",
       "    }\n",
       "\n",
       "    .dataframe tbody tr th {\n",
       "        vertical-align: top;\n",
       "    }\n",
       "\n",
       "    .dataframe thead th {\n",
       "        text-align: right;\n",
       "    }\n",
       "</style>\n",
       "<table border=\"1\" class=\"dataframe\">\n",
       "  <thead>\n",
       "    <tr style=\"text-align: right;\">\n",
       "      <th></th>\n",
       "      <th>timestamp</th>\n",
       "      <th>carrera</th>\n",
       "      <th>semestre</th>\n",
       "      <th>lenguaje mas usado</th>\n",
       "      <th>lenguaje menos usado</th>\n",
       "      <th>lenguajes que te gustaría aprender</th>\n",
       "    </tr>\n",
       "  </thead>\n",
       "  <tbody>\n",
       "    <tr>\n",
       "      <th>0</th>\n",
       "      <td>2024/02/25 6:12:27 p. m. GMT-7</td>\n",
       "      <td>Ingeniería en Software.</td>\n",
       "      <td>5-6 semestre</td>\n",
       "      <td>Python</td>\n",
       "      <td>JavaScript</td>\n",
       "      <td>JavaScript</td>\n",
       "    </tr>\n",
       "    <tr>\n",
       "      <th>1</th>\n",
       "      <td>2024/02/28 4:57:44 p. m. GMT-7</td>\n",
       "      <td>Ingeniería en Software.</td>\n",
       "      <td>1-2 semestre</td>\n",
       "      <td>Java</td>\n",
       "      <td>Java</td>\n",
       "      <td>Java</td>\n",
       "    </tr>\n",
       "    <tr>\n",
       "      <th>2</th>\n",
       "      <td>2024/02/28 8:59:59 p. m. GMT-7</td>\n",
       "      <td>Ingeniería en Software.</td>\n",
       "      <td>5-6 semestre</td>\n",
       "      <td>Python</td>\n",
       "      <td>C#</td>\n",
       "      <td>JavaScript;C#</td>\n",
       "    </tr>\n",
       "    <tr>\n",
       "      <th>3</th>\n",
       "      <td>2024/02/29 10:10:24 a. m. GMT-7</td>\n",
       "      <td>Ingenieria en Sitemas Computacionales.</td>\n",
       "      <td>9 semestre o mayor</td>\n",
       "      <td>PHP</td>\n",
       "      <td>Java</td>\n",
       "      <td>C#</td>\n",
       "    </tr>\n",
       "    <tr>\n",
       "      <th>4</th>\n",
       "      <td>2024/02/29 10:12:49 a. m. GMT-7</td>\n",
       "      <td>Ingeniería en Software.</td>\n",
       "      <td>5-6 semestre</td>\n",
       "      <td>C#</td>\n",
       "      <td>Python</td>\n",
       "      <td>JavaScript;Python;Java</td>\n",
       "    </tr>\n",
       "  </tbody>\n",
       "</table>\n",
       "</div>"
      ],
      "text/plain": [
       "                         timestamp                                 carrera  \\\n",
       "0   2024/02/25 6:12:27 p. m. GMT-7                 Ingeniería en Software.   \n",
       "1   2024/02/28 4:57:44 p. m. GMT-7                 Ingeniería en Software.   \n",
       "2   2024/02/28 8:59:59 p. m. GMT-7                 Ingeniería en Software.   \n",
       "3  2024/02/29 10:10:24 a. m. GMT-7  Ingenieria en Sitemas Computacionales.   \n",
       "4  2024/02/29 10:12:49 a. m. GMT-7                 Ingeniería en Software.   \n",
       "\n",
       "             semestre lenguaje mas usado lenguaje menos usado  \\\n",
       "0        5-6 semestre             Python           JavaScript   \n",
       "1        1-2 semestre               Java                 Java   \n",
       "2        5-6 semestre             Python                   C#   \n",
       "3  9 semestre o mayor                PHP                 Java   \n",
       "4        5-6 semestre                 C#               Python   \n",
       "\n",
       "  lenguajes que te gustaría aprender  \n",
       "0                         JavaScript  \n",
       "1                               Java  \n",
       "2                      JavaScript;C#  \n",
       "3                                 C#  \n",
       "4             JavaScript;Python;Java  "
      ]
     },
     "execution_count": 4,
     "metadata": {},
     "output_type": "execute_result"
    }
   ],
   "source": [
    "data = pd.read_csv('answers\\data.csv')\n",
    "data.head()\n",
    "columnas = {\n",
    "    'Marca temporal' : 'timestamp',\n",
    "    'Carrera a la que perteneces.' : 'carrera',\n",
    "    'Semestre que te encuentras cursando actualmente.' : 'semestre',\n",
    "    'Selecciona el lenguaje de programación que mas sabes usar.' : 'lenguaje mas usado', #en esta linea despues de \"selecciona el\" hay dos espacios, cambiar en caso de que no cambie el nombre de la columna\n",
    "    'Selecciona el lenguaje de programación que menos saber usar (sino no sabes usar ninguna de las opciones selecciona el que te parezca mas complicado de aprender).' : 'lenguaje menos usado',\n",
    "    'Selecciona el o los lenguajes de programación que mas te gustarían aprender.' : 'lenguajes que te gustaría aprender'\n",
    "}\n",
    "data = data.rename(columns=columnas)\n",
    "data.head()"
   ]
  },
  {
   "cell_type": "markdown",
   "metadata": {},
   "source": [
    "Numero total de cuantos usan los lenguajes especificados"
   ]
  },
  {
   "cell_type": "code",
   "execution_count": 5,
   "metadata": {},
   "outputs": [
    {
     "data": {
      "text/plain": [
       "lenguaje mas usado\n",
       "Python        38.46\n",
       "C#            35.90\n",
       "JavaScript    15.38\n",
       "Java           7.69\n",
       "PHP            2.56\n",
       "Name: proportion, dtype: float64"
      ]
     },
     "execution_count": 5,
     "metadata": {},
     "output_type": "execute_result"
    }
   ],
   "source": [
    "lenguageMostUsed = data['lenguaje mas usado'].value_counts()\n",
    "lenguageMostUsedPorcentual = data['lenguaje mas usado'].value_counts(normalize=True) * 100\n",
    "lenguageMostUsedPorcentual = lenguageMostUsedPorcentual.round(2)\n",
    "lenguageMostUsedPorcentual\n"
   ]
  },
  {
   "cell_type": "code",
   "execution_count": 6,
   "metadata": {},
   "outputs": [
    {
     "data": {
      "text/html": [
       "<div>\n",
       "<style scoped>\n",
       "    .dataframe tbody tr th:only-of-type {\n",
       "        vertical-align: middle;\n",
       "    }\n",
       "\n",
       "    .dataframe tbody tr th {\n",
       "        vertical-align: top;\n",
       "    }\n",
       "\n",
       "    .dataframe thead th {\n",
       "        text-align: right;\n",
       "    }\n",
       "</style>\n",
       "<table border=\"1\" class=\"dataframe\">\n",
       "  <thead>\n",
       "    <tr style=\"text-align: right;\">\n",
       "      <th>lenguaje menos usado</th>\n",
       "      <th>C#</th>\n",
       "      <th>Java</th>\n",
       "      <th>JavaScript</th>\n",
       "      <th>PHP</th>\n",
       "      <th>Python</th>\n",
       "    </tr>\n",
       "    <tr>\n",
       "      <th>carrera</th>\n",
       "      <th></th>\n",
       "      <th></th>\n",
       "      <th></th>\n",
       "      <th></th>\n",
       "      <th></th>\n",
       "    </tr>\n",
       "  </thead>\n",
       "  <tbody>\n",
       "    <tr>\n",
       "      <th>Ingenieria en Sitemas Computacionales.</th>\n",
       "      <td>15.384615</td>\n",
       "      <td>15.384615</td>\n",
       "      <td>7.692308</td>\n",
       "      <td>30.769231</td>\n",
       "      <td>30.769231</td>\n",
       "    </tr>\n",
       "    <tr>\n",
       "      <th>Ingeniería en Software.</th>\n",
       "      <td>19.230769</td>\n",
       "      <td>15.384615</td>\n",
       "      <td>15.384615</td>\n",
       "      <td>30.769231</td>\n",
       "      <td>19.230769</td>\n",
       "    </tr>\n",
       "  </tbody>\n",
       "</table>\n",
       "</div>"
      ],
      "text/plain": [
       "lenguaje menos usado                           C#       Java  JavaScript  \\\n",
       "carrera                                                                    \n",
       "Ingenieria en Sitemas Computacionales.  15.384615  15.384615    7.692308   \n",
       "Ingeniería en Software.                 19.230769  15.384615   15.384615   \n",
       "\n",
       "lenguaje menos usado                          PHP     Python  \n",
       "carrera                                                       \n",
       "Ingenieria en Sitemas Computacionales.  30.769231  30.769231  \n",
       "Ingeniería en Software.                 30.769231  19.230769  "
      ]
     },
     "execution_count": 6,
     "metadata": {},
     "output_type": "execute_result"
    }
   ],
   "source": [
    "porcentual = pd.crosstab(data.carrera, data['lenguaje menos usado'], normalize = 'index') * 100\n",
    "porcentual"
   ]
  },
  {
   "cell_type": "code",
   "execution_count": 46,
   "metadata": {},
   "outputs": [
    {
     "data": {
      "image/png": "[encoded data removed]",
      "text/plain": [
       "<Figure size 640x480 with 1 Axes>"
      ]
     },
     "metadata": {},
     "output_type": "display_data"
    }
   ],
   "source": [
    "pyhon_count = data['lenguajes que te gustaría aprender'].str.contains('Python').sum()\n",
    "java_count = data['lenguajes que te gustaría aprender'].str.contains(r'\\bJava\\b').sum()\n",
    "javascript_count = data['lenguajes que te gustaría aprender'].str.contains('JavaScript').sum()\n",
    "php_count = data['lenguajes que te gustaría aprender'].str.contains('PHP').sum()\n",
    "csharp_count = data['lenguajes que te gustaría aprender'].str.contains('C#').sum()\n",
    "\n",
    "lenguajes = ['Python', 'Java', 'JavaScript', 'PHP', 'C#']\n",
    "cantidad = [pyhon_count, java_count, javascript_count, php_count, csharp_count]\n",
    "\n",
    "plt.bar(lenguajes, cantidad)\n",
    "plt.title('Lenguajes que te gustaría aprender')\n",
    "plt.xlabel('Lenguajes')\n",
    "plt.ylabel('Cantidad')\n",
    "plt.show()\n"
   ]
  }
 ],
 "metadata": {
  "kernelspec": {
   "display_name": "Python 3",
   "language": "python",
   "name": "python3"
  },
  "language_info": {
   "codemirror_mode": {
    "name": "ipython",
    "version": 3
   },
   "file_extension": ".py",
   "mimetype": "text/x-python",
   "name": "python",
   "nbconvert_exporter": "python",
   "pygments_lexer": "ipython3",
   "version": "3.11.4"
  }
 },
 "nbformat": 4,
 "nbformat_minor": 2
}
