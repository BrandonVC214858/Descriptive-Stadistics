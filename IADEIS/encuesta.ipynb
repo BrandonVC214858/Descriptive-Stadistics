{
 "cells": [
  {
   "cell_type": "code",
   "execution_count": 1,
   "metadata": {},
   "outputs": [],
   "source": [
    "import pandas as pd\n",
    "import numpy as np\n",
    "import matplotlib.pyplot as plt"
   ]
  },
  {
   "cell_type": "code",
   "execution_count": 7,
   "metadata": {},
   "outputs": [
    {
     "data": {
      "text/html": [
       "<div>\n",
       "<style scoped>\n",
       "    .dataframe tbody tr th:only-of-type {\n",
       "        vertical-align: middle;\n",
       "    }\n",
       "\n",
       "    .dataframe tbody tr th {\n",
       "        vertical-align: top;\n",
       "    }\n",
       "\n",
       "    .dataframe thead th {\n",
       "        text-align: right;\n",
       "    }\n",
       "</style>\n",
       "<table border=\"1\" class=\"dataframe\">\n",
       "  <thead>\n",
       "    <tr style=\"text-align: right;\">\n",
       "      <th></th>\n",
       "      <th>timestamp</th>\n",
       "      <th>carrera</th>\n",
       "      <th>semestre</th>\n",
       "      <th>lenguaje mas usado</th>\n",
       "      <th>lenguaje menos usado</th>\n",
       "      <th>lenguajes que te gustaría aprender</th>\n",
       "    </tr>\n",
       "  </thead>\n",
       "  <tbody>\n",
       "    <tr>\n",
       "      <th>0</th>\n",
       "      <td>2024/02/25 6:12:27 p. m. GMT-7</td>\n",
       "      <td>Ingeniería en Software.</td>\n",
       "      <td>5-6 semestre</td>\n",
       "      <td>Python</td>\n",
       "      <td>JavaScript</td>\n",
       "      <td>JavaScript</td>\n",
       "    </tr>\n",
       "  </tbody>\n",
       "</table>\n",
       "</div>"
      ],
      "text/plain": [
       "                        timestamp                  carrera      semestre  \\\n",
       "0  2024/02/25 6:12:27 p. m. GMT-7  Ingeniería en Software.  5-6 semestre   \n",
       "\n",
       "  lenguaje mas usado lenguaje menos usado lenguajes que te gustaría aprender  \n",
       "0             Python           JavaScript                         JavaScript  "
      ]
     },
     "execution_count": 7,
     "metadata": {},
     "output_type": "execute_result"
    }
   ],
   "source": [
    "data = pd.read_csv('answers\\data.csv')\n",
    "data.head()\n",
    "columnas = {\n",
    "    'Marca temporal' : 'timestamp',\n",
    "    'Carrera a la que perteneces.' : 'carrera',\n",
    "    'Semestre que te encuentras cursando actualmente.' : 'semestre',\n",
    "    'Selecciona el  lenguaje de programación que mas sabes usar.' : 'lenguaje mas usado', #en esta linea despues de \"selecciona el\" hay dos espacios, cambiar en caso de que no cambie el nombre de la columna\n",
    "    'Selecciona el lenguaje de programación que menos saber usar (sino no sabes usar ninguna de las opciones selecciona el que te parezca mas complicado de aprender).' : 'lenguaje menos usado',\n",
    "    'Selecciona el o los lenguajes de programación que mas te gustarían aprender.' : 'lenguajes que te gustaría aprender'\n",
    "}\n",
    "data = data.rename(columns=columnas)\n",
    "data.head()"
   ]
  },
  {
   "cell_type": "markdown",
   "metadata": {},
   "source": [
    "Numero total de cuantos usan los lenguajes especificados"
   ]
  },
  {
   "cell_type": "code",
   "execution_count": 13,
   "metadata": {},
   "outputs": [
    {
     "data": {
      "text/plain": [
       "lenguaje mas usado\n",
       "Python    100.0\n",
       "Name: proportion, dtype: float64"
      ]
     },
     "execution_count": 13,
     "metadata": {},
     "output_type": "execute_result"
    }
   ],
   "source": [
    "lenguageMostUsed = data['lenguaje mas usado'].value_counts()\n",
    "lenguageMostUsedPorcentual = data['lenguaje mas usado'].value_counts(normalize=True) * 100\n",
    "lenguageMostUsedPorcentual = lenguageMostUsedPorcentual.round(2)\n",
    "lenguageMostUsedPorcentual\n"
   ]
  },
  {
   "cell_type": "code",
   "execution_count": 11,
   "metadata": {},
   "outputs": [
    {
     "data": {
      "text/html": [
       "<div>\n",
       "<style scoped>\n",
       "    .dataframe tbody tr th:only-of-type {\n",
       "        vertical-align: middle;\n",
       "    }\n",
       "\n",
       "    .dataframe tbody tr th {\n",
       "        vertical-align: top;\n",
       "    }\n",
       "\n",
       "    .dataframe thead th {\n",
       "        text-align: right;\n",
       "    }\n",
       "</style>\n",
       "<table border=\"1\" class=\"dataframe\">\n",
       "  <thead>\n",
       "    <tr style=\"text-align: right;\">\n",
       "      <th>lenguaje menos usado</th>\n",
       "      <th>JavaScript</th>\n",
       "    </tr>\n",
       "    <tr>\n",
       "      <th>carrera</th>\n",
       "      <th></th>\n",
       "    </tr>\n",
       "  </thead>\n",
       "  <tbody>\n",
       "    <tr>\n",
       "      <th>Ingeniería en Software.</th>\n",
       "      <td>100.0</td>\n",
       "    </tr>\n",
       "  </tbody>\n",
       "</table>\n",
       "</div>"
      ],
      "text/plain": [
       "lenguaje menos usado     JavaScript\n",
       "carrera                            \n",
       "Ingeniería en Software.       100.0"
      ]
     },
     "execution_count": 11,
     "metadata": {},
     "output_type": "execute_result"
    }
   ],
   "source": [
    "porcentual = pd.crosstab(data.carrera, data['lenguaje menos usado'], normalize = 'index') * 100\n",
    "porcentual"
   ]
  }
 ],
 "metadata": {
  "kernelspec": {
   "display_name": "Python 3",
   "language": "python",
   "name": "python3"
  },
  "language_info": {
   "codemirror_mode": {
    "name": "ipython",
    "version": 3
   },
   "file_extension": ".py",
   "mimetype": "text/x-python",
   "name": "python",
   "nbconvert_exporter": "python",
   "pygments_lexer": "ipython3",
   "version": "3.11.4"
  }
 },
 "nbformat": 4,
 "nbformat_minor": 2
}
